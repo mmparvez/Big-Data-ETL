{
  "cells": [
    {
      "cell_type": "code",
      "execution_count": 1,
      "metadata": {
        "colab": {
          "base_uri": "https://localhost:8080/"
        },
        "id": "-8eFW_wl1n39",
        "outputId": "28e612e5-7406-4d0d-e255-6dc98bde996c"
      },
      "outputs": [
        {
          "output_type": "stream",
          "name": "stdout",
          "text": [
            "\r0% [Working]\r            \rGet:1 http://security.ubuntu.com/ubuntu focal-security InRelease [114 kB]\n",
            "\r0% [Waiting for headers] [1 InRelease 14.2 kB/114 kB 12%] [Waiting for headers]\r                                                                               \rGet:2 https://cloud.r-project.org/bin/linux/ubuntu focal-cran40/ InRelease [3,622 B]\n",
            "\r0% [Waiting for headers] [1 InRelease 22.9 kB/114 kB 20%] [Waiting for headers]\r                                                                               \rHit:3 http://archive.ubuntu.com/ubuntu focal InRelease\n",
            "\r0% [Waiting for headers] [1 InRelease 25.8 kB/114 kB 23%] [Waiting for headers]\r                                                                               \rGet:4 http://archive.ubuntu.com/ubuntu focal-updates InRelease [114 kB]\n",
            "Get:5 http://ppa.launchpad.net/c2d4u.team/c2d4u4.0+/ubuntu focal InRelease [18.1 kB]\n",
            "Ign:6 https://developer.download.nvidia.com/compute/machine-learning/repos/ubuntu2004/x86_64  InRelease\n",
            "Hit:7 https://developer.download.nvidia.com/compute/cuda/repos/ubuntu2004/x86_64  InRelease\n",
            "Hit:8 https://developer.download.nvidia.com/compute/machine-learning/repos/ubuntu2004/x86_64  Release\n",
            "Get:9 http://archive.ubuntu.com/ubuntu focal-backports InRelease [108 kB]\n",
            "Hit:10 http://ppa.launchpad.net/cran/libgit2/ubuntu focal InRelease\n",
            "Get:11 http://ppa.launchpad.net/deadsnakes/ppa/ubuntu focal InRelease [18.1 kB]\n",
            "Hit:12 http://ppa.launchpad.net/graphics-drivers/ppa/ubuntu focal InRelease\n",
            "Get:13 http://security.ubuntu.com/ubuntu focal-security/main amd64 Packages [2,425 kB]\n",
            "Get:14 http://security.ubuntu.com/ubuntu focal-security/restricted amd64 Packages [1,864 kB]\n",
            "Get:15 http://security.ubuntu.com/ubuntu focal-security/universe amd64 Packages [980 kB]\n",
            "Get:17 http://archive.ubuntu.com/ubuntu focal-updates/restricted amd64 Packages [1,989 kB]\n",
            "Get:18 http://archive.ubuntu.com/ubuntu focal-updates/universe amd64 Packages [1,281 kB]\n",
            "Get:19 http://archive.ubuntu.com/ubuntu focal-updates/main amd64 Packages [2,899 kB]\n",
            "Get:20 http://ppa.launchpad.net/c2d4u.team/c2d4u4.0+/ubuntu focal/main Sources [2,374 kB]\n",
            "Get:21 http://ppa.launchpad.net/c2d4u.team/c2d4u4.0+/ubuntu focal/main amd64 Packages [1,125 kB]\n",
            "Get:22 http://ppa.launchpad.net/deadsnakes/ppa/ubuntu focal/main amd64 Packages [29.5 kB]\n",
            "Fetched 15.3 MB in 7s (2,160 kB/s)\n",
            "Reading package lists... Done\n"
          ]
        }
      ],
      "source": [
        "# Activate Spark in our Colab notebook.\n",
        "import os\n",
        "# Find the latest version of spark 3.2  from http://www.apache.org/dist/spark/ and enter as the spark version\n",
        "# For example:\n",
        "# spark_version = 'spark-3.2.2'\n",
        "spark_version = 'spark-3.2.3'\n",
        "os.environ['SPARK_VERSION']=spark_version\n",
        "\n",
        "# Install Spark and Java\n",
        "!apt-get update\n",
        "!apt-get install openjdk-11-jdk-headless -qq > /dev/null\n",
        "!wget -q http://www.apache.org/dist/spark/$SPARK_VERSION/$SPARK_VERSION-bin-hadoop2.7.tgz\n",
        "!tar xf $SPARK_VERSION-bin-hadoop2.7.tgz\n",
        "!pip install -q findspark\n",
        "\n",
        "# Set Environment Variables\n",
        "import os\n",
        "os.environ[\"JAVA_HOME\"] = \"/usr/lib/jvm/java-11-openjdk-amd64\"\n",
        "os.environ[\"SPARK_HOME\"] = f\"/content/{spark_version}-bin-hadoop2.7\"\n",
        "\n",
        "# Start a SparkSession\n",
        "import findspark\n",
        "findspark.init()"
      ]
    },
    {
      "cell_type": "code",
      "execution_count": 2,
      "metadata": {
        "colab": {
          "base_uri": "https://localhost:8080/"
        },
        "id": "BzCrgs0Z1rnw",
        "outputId": "54720398-93b8-4aed-83a1-8604cfb96ccd"
      },
      "outputs": [
        {
          "output_type": "stream",
          "name": "stdout",
          "text": [
            "--2023-01-18 07:43:11--  https://jdbc.postgresql.org/download/postgresql-42.2.9.jar\n",
            "Resolving jdbc.postgresql.org (jdbc.postgresql.org)... 72.32.157.228, 2001:4800:3e1:1::228\n",
            "Connecting to jdbc.postgresql.org (jdbc.postgresql.org)|72.32.157.228|:443... connected.\n",
            "HTTP request sent, awaiting response... 200 OK\n",
            "Length: 914037 (893K) [application/java-archive]\n",
            "Saving to: ‘postgresql-42.2.9.jar’\n",
            "\n",
            "postgresql-42.2.9.j 100%[===================>] 892.61K  4.67MB/s    in 0.2s    \n",
            "\n",
            "2023-01-18 07:43:11 (4.67 MB/s) - ‘postgresql-42.2.9.jar’ saved [914037/914037]\n",
            "\n"
          ]
        }
      ],
      "source": [
        "# Get postgresql package\n",
        "!wget https://jdbc.postgresql.org/download/postgresql-42.2.9.jar"
      ]
    },
    {
      "cell_type": "code",
      "execution_count": 3,
      "metadata": {
        "id": "0DuBth0V2PR8"
      },
      "outputs": [],
      "source": [
        "# Import Spark and create a SparkSession\n",
        "from pyspark.sql import SparkSession\n",
        "spark = SparkSession.builder.appName(\"BigData-HW-1\").config(\"spark.driver.extraClassPath\",\"/content/postgresql-42.2.9.jar\").getOrCreate()"
      ]
    },
    {
      "cell_type": "markdown",
      "metadata": {
        "id": "D3W2XJVi2CU-"
      },
      "source": [
        "# Extract the Amazon Data into Spark DataFrame"
      ]
    },
    {
      "cell_type": "code",
      "execution_count": 4,
      "metadata": {
        "colab": {
          "base_uri": "https://localhost:8080/"
        },
        "id": "Na_stw7b1wfU",
        "outputId": "6bcab454-312c-4782-b581-37b7f94b2ee0"
      },
      "outputs": [
        {
          "output_type": "stream",
          "name": "stdout",
          "text": [
            "+-----------+-----------+--------------+----------+--------------+--------------------+----------------+-----------+-------------+-----------+----+-----------------+--------------------+--------------------+-------------------+\n",
            "|marketplace|customer_id|     review_id|product_id|product_parent|       product_title|product_category|star_rating|helpful_votes|total_votes|vine|verified_purchase|     review_headline|         review_body|        review_date|\n",
            "+-----------+-----------+--------------+----------+--------------+--------------------+----------------+-----------+-------------+-----------+----+-----------------+--------------------+--------------------+-------------------+\n",
            "|         US|   40884699| R9CO86UUJCAW5|B00VGTN02Y|     786681372|Teenage Mutant Ni...|         Luggage|          3|            0|          0|   N|                Y|my review of this...|my review of this...|2015-01-31 00:08:00|\n",
            "|         US|   23208852|R3PR8X6QGVJ8B1|B005KIWL0E|     618251799|Kenneth Cole Reac...|         Luggage|          5|            0|          0|   N|                Y|          Five Stars|       Perfect size.|2015-01-31 00:08:00|\n",
            "|         US|   17100246|R39BO2819ABUPF|B007UNSHJ6|     810480328|American Touriste...|         Luggage|          4|            0|          0|   N|                Y|            so good.|    So far, so good.|2015-01-31 00:08:00|\n",
            "|         US|   13533670|R3ADL7V6EGGEEP|B00WHFNXB4|      20765193|15.5 Inch Purple ...|         Luggage|          4|            0|          0|   N|                Y|          Four Stars|seems nicely made...|2015-01-31 00:08:00|\n",
            "|         US|   38541771|R1OXYPBPLVRMI5|B000M5NBYU|     812890709|Port & Company Zi...|         Luggage|          5|            0|          0|   N|                Y|           Dance Bag|Great bag for all...|2015-01-31 00:08:00|\n",
            "|         US|   12686499|R1WYM8Z5ATQ98O|B00ACBJ89G|     624906499|J World New York ...|         Luggage|          3|            0|          0|   N|                Y|        TOO SMALL!!!|it´s nice BUT it´...|2015-01-31 00:08:00|\n",
            "|         US|   27767206|R3LCIANTN1H9EC|B001H4BQ1A|     385044506|Voltage Valet Clo...|         Luggage|          4|            1|          1|   N|                Y|          Four Stars|It does the job b...|2015-01-31 00:08:00|\n",
            "|         US|   46630606|R3U2M23N1P0KQ6|B00ESG6NDK|      51297652|Pro Packing Cubes...|         Luggage|          5|            0|          0|   N|                Y|          Five Stars|          Just fine.|2015-01-31 00:08:00|\n",
            "|         US|   41622754|R29MB6N7HB6NZI|B00M14SAXC|     832113872|Girl's Dance Duff...|         Luggage|          1|            2|          2|   N|                Y|We were exited to...|We were exited to...|2015-01-31 00:08:00|\n",
            "|         US|   15296380| RGEQ6DGRG7DQG|B012PC5QAY|     490793867|Disney Inside Out...|         Luggage|          5|            0|          0|   N|                Y|               cute!|Very nice and we'...|2015-01-31 00:08:00|\n",
            "|         US|   21206415|R38HNH0BSS2KFE|B00VWKWWMG|     356411837|World Traveler 13...|         Luggage|          1|            1|          1|   N|                Y|            One Star|Brought it on vac...|2015-01-31 00:08:00|\n",
            "|         US|   34554097|R2CATRM9CH59LY|B00N2U14UK|     326835930|Sherpani Trevia C...|         Luggage|          5|            4|          4|   N|                Y|A great bag for t...|I purchased this ...|2015-01-31 00:08:00|\n",
            "|         US|   42252567|R18DMKNDPJ1BSN|B00K4F45CA|     954517686|Rockland Luggage ...|         Luggage|          5|            0|          1|   N|                Y|             Perfect|Love this light w...|2015-01-31 00:08:00|\n",
            "|         US|    3532342| RZRSHBWXO3XUQ|B00U57FFA8|      98867907|Allant 16\" Padded...|         Luggage|          5|            0|          0|   N|                Y|it's durable and ...|Purchased this ba...|2015-01-31 00:08:00|\n",
            "|         US|    7791634|R1BMTNSYCZY1NI|B00ROSRFQ8|     648371973|Polare Manly Real...|         Luggage|          3|            1|          1|   N|                Y|Strong well-made ...|I've had this bag...|2015-01-31 00:08:00|\n",
            "|         US|    9911099| RPE2S0HZQ9EFP|B003ZV71BM|     406795103|American Flyer Lu...|         Luggage|          5|            0|          0|   N|                Y|          Five Stars|Love love love my...|2015-01-31 00:08:00|\n",
            "|         US|   46124918|R2OOWJSFPDDA03|B00NJYB2JM|     255715129|Victoriatourist V...|         Luggage|          3|            0|          1|   N|                Y|         Three Stars|Smaller than expe...|2015-01-31 00:08:00|\n",
            "|         US|     200537|R3EED64ZPXGZ92|B00LD0A4N4|     244117760|EcoCity Vintage C...|         Luggage|          3|            0|          0|   N|                Y|         Three Stars|Within the first ...|2015-01-31 00:08:00|\n",
            "|         US|    1403856|R1BI8NF6YRH5HD|B00N5GVF6O|     626808161|Bolang Water Resi...|         Luggage|          5|            0|          0|   N|                Y|     Laptop backpack|Nice nice sturdy ...|2015-01-31 00:08:00|\n",
            "|         US|    8201781| RUD7SDRQTAVMC|B00C75KZPQ|     176437087|Travelon Cosmetic...|         Luggage|          5|            0|          0|   N|                Y|           Fabulous!|Fabulous! Can use...|2015-01-31 00:08:00|\n",
            "+-----------+-----------+--------------+----------+--------------+--------------------+----------------+-----------+-------------+-----------+----+-----------------+--------------------+--------------------+-------------------+\n",
            "only showing top 20 rows\n",
            "\n"
          ]
        }
      ],
      "source": [
        "# Read in the data from an S3 Bucket\n",
        "from pyspark import SparkFiles\n",
        "url=\"https://s3.amazonaws.com/amazon-reviews-pds/tsv/amazon_reviews_us_Luggage_v1_00.tsv.gz\" \n",
        "\n",
        "spark.sparkContext.addFile(url)\n",
        "review_data_df = spark.read.csv(SparkFiles.get(\"amazon_reviews_us_Luggage_v1_00.tsv.gz\"), sep=\"\\t\", header=True, inferSchema=True, timestampFormat=\"yyyy-mm-dd\")\n",
        "\n",
        "# Show DataFrame\n",
        "review_data_df.show()"
      ]
    },
    {
      "cell_type": "code",
      "execution_count": 5,
      "metadata": {
        "colab": {
          "base_uri": "https://localhost:8080/"
        },
        "id": "Cayz-3Q52IM3",
        "outputId": "a7c3e3e2-0288-41eb-ad3e-7dce84f99aef"
      },
      "outputs": [
        {
          "output_type": "stream",
          "name": "stdout",
          "text": [
            "(348657, 15)\n"
          ]
        }
      ],
      "source": [
        "# Get the number of rows in the DataFrame.\n",
        "print((review_data_df.count(), len(review_data_df.columns)))"
      ]
    },
    {
      "cell_type": "code",
      "source": [
        "# Drop null values, by default is any which means will drop any rows which has a NA\n",
        "cleaned_df = review_data_df.dropna(how='any')\n",
        "# Drop any duplicate\n",
        "cleaned_df =  cleaned_df.dropDuplicates()\n",
        "print((cleaned_df.count(), len(cleaned_df.columns)))"
      ],
      "metadata": {
        "colab": {
          "base_uri": "https://localhost:8080/"
        },
        "id": "WwqRVg0eXTaU",
        "outputId": "6ffb0cc0-8e7b-4bb7-e2e4-60b383bc3f56"
      },
      "execution_count": 6,
      "outputs": [
        {
          "output_type": "stream",
          "name": "stdout",
          "text": [
            "(348613, 15)\n"
          ]
        }
      ]
    },
    {
      "cell_type": "markdown",
      "metadata": {
        "id": "C9U0rkGZ2eu7"
      },
      "source": [
        "# Transform the Data"
      ]
    },
    {
      "cell_type": "markdown",
      "metadata": {
        "id": "dUoftWoKtM_c"
      },
      "source": [
        "## Create the \"review_id_table\"."
      ]
    },
    {
      "cell_type": "code",
      "execution_count": 7,
      "metadata": {
        "colab": {
          "base_uri": "https://localhost:8080/"
        },
        "id": "2tMYkSIk2d-m",
        "outputId": "95ebe75b-9b06-49d5-f223-ec9df7cc0aa6"
      },
      "outputs": [
        {
          "output_type": "stream",
          "name": "stdout",
          "text": [
            "+--------------+-----------+----------+--------------+-------------------+\n",
            "|     review_id|customer_id|product_id|product_parent|        review_date|\n",
            "+--------------+-----------+----------+--------------+-------------------+\n",
            "| R5MPHGZNMQRNJ|   42610491|B00EAKKOKW|     393337306|2015-01-31 00:08:00|\n",
            "|R2SCIZ2KIIW7G2|   22778458|B00VWKS05Y|     197290186|2015-01-31 00:08:00|\n",
            "|R2Z98HWZHMV78N|    8405243|B00UQOUBV8|     960742333|2015-01-30 00:08:00|\n",
            "|R1LSO9GG4P33VV|   27718120|B00BYFC4Z4|     506088001|2015-01-30 00:08:00|\n",
            "| RS8HVEPCCM1V1|   14600611|B002YM70QO|     479181625|2015-01-30 00:08:00|\n",
            "|R2CRLDSELLXESD|   44080043|B00JM2DLLC|      11240118|2015-01-30 00:08:00|\n",
            "|R3ORL5J14E2IV7|   43765856|B00CPSWD8C|     677901073|2015-01-30 00:08:00|\n",
            "|R2DC5GLVE7KPWC|   36190140|B000P8JBPC|      48200029|2015-01-29 00:08:00|\n",
            "|R1D7LO4KL2XYNS|   34140095|B013EAIRPM|     677597111|2015-01-29 00:08:00|\n",
            "|R3RE7EL02TIN1X|    9090247|B00MPSGZT0|     668538183|2015-01-28 00:08:00|\n",
            "|R28LWDNNRDKV8E|   49389701|B00AD6QX3Y|     418625834|2015-01-28 00:08:00|\n",
            "|R2IX2UD0OG88GA|     834996|B008BC5IEW|      40468202|2015-01-28 00:08:00|\n",
            "|R11910J20N35KD|    2602758|B00WHPEBEM|     494797797|2015-01-28 00:08:00|\n",
            "|R35RWEOCTVPYMH|   10670116|B00MOPD2GI|     122467126|2015-01-28 00:08:00|\n",
            "|R36XMQ9IS7E2PI|   52087372|B00DVIF8H8|       7425627|2015-01-27 00:08:00|\n",
            "| RP3XBQDTZXFN2|   30129097|B00595AGJG|     849397793|2015-01-27 00:08:00|\n",
            "|R2NG25XNDAXX1H|   37878835|B00RYTYAQ0|      50185705|2015-01-26 00:08:00|\n",
            "|R30MQF6CZPDKKH|    2356017|B003ICZ61K|     444011721|2015-01-26 00:08:00|\n",
            "| RDGTLJDO2BVHX|   20606962|B00T24Q4P0|     800578370|2015-01-25 00:08:00|\n",
            "|R2DHEH4BIB2Y2V|   12602182|B00VWL409I|     943389886|2015-01-25 00:08:00|\n",
            "+--------------+-----------+----------+--------------+-------------------+\n",
            "only showing top 20 rows\n",
            "\n"
          ]
        }
      ],
      "source": [
        "from pyspark.sql.functions import to_date\n",
        "# Create the \"review_id_df\" DataFrame with the appropriate columns and data types.\n",
        "review_id_df = cleaned_df.select(['review_id','customer_id','product_id','product_parent','review_date'])\n",
        "review_id_df.show()"
      ]
    },
    {
      "cell_type": "markdown",
      "metadata": {
        "id": "aAVCFjXhtXO8"
      },
      "source": [
        "## Create the \"products\" Table"
      ]
    },
    {
      "cell_type": "code",
      "execution_count": 8,
      "metadata": {
        "colab": {
          "base_uri": "https://localhost:8080/"
        },
        "id": "g9gTNhT62je4",
        "outputId": "5f3f8b4c-74e1-4cc3-d914-2a2cf8a111ba"
      },
      "outputs": [
        {
          "output_type": "stream",
          "name": "stdout",
          "text": [
            "+----------+--------------------+\n",
            "|product_id|       product_title|\n",
            "+----------+--------------------+\n",
            "|B005GUQCGK|Everest Gym Bag w...|\n",
            "|B00M6O0WQK|Sprayground Unise...|\n",
            "|B00UFFW5XK|Polare Italian Le...|\n",
            "|B00J8O730E|Nicole Lee Shoppi...|\n",
            "|B0028Y67PI|David King & Co. ...|\n",
            "|B00DHCUWD8|PealRa Banana Lea...|\n",
            "|B00O9QORAK|Luxebell Luggage ...|\n",
            "|B0125Q648I|Shacke 2 x Metal ...|\n",
            "|B004URKJY6|Small Orange Sol ...|\n",
            "|B004R6B5MU|New Maxam 16 Inch...|\n",
            "|B00FB4X9TY|Rockland Luggage ...|\n",
            "|B00IDSDI1E|Kobwa(TM) Yellow ...|\n",
            "|B00AE0NW5Q|Pacsafe Venturesa...|\n",
            "|B00YNP622S|Great White Shark...|\n",
            "|B00QF5Q7KG|Lewis N Clark Bal...|\n",
            "|B0109ZA54Q|Passport Holder- ...|\n",
            "|B00KYFPMWC|ECOSUSI Vintage C...|\n",
            "|B005H4D4TI|CalPak Hollywood ...|\n",
            "|B0053GFAJC|ShedRain Umbrella...|\n",
            "|B00PY00AWY|Unisex Casual Gen...|\n",
            "+----------+--------------------+\n",
            "only showing top 20 rows\n",
            "\n"
          ]
        }
      ],
      "source": [
        "# Create the \"products_df\" DataFrame that drops the duplicates in the \"product_id\" and \"product_title columns. \n",
        "products_df = cleaned_df.select(['product_id','product_title'])\n",
        "products_df = products_df.distinct()\n",
        "products_df.show()"
      ]
    },
    {
      "cell_type": "markdown",
      "metadata": {
        "id": "LJHuZ9zut0e5"
      },
      "source": [
        "## Create the \"customers\" Table"
      ]
    },
    {
      "cell_type": "code",
      "execution_count": 9,
      "metadata": {
        "colab": {
          "base_uri": "https://localhost:8080/"
        },
        "id": "_pF2Vf3c2n2O",
        "outputId": "f712d25e-433b-48f5-cf8e-2cb09563c06f"
      },
      "outputs": [
        {
          "output_type": "stream",
          "name": "stdout",
          "text": [
            "+-----------+--------------+\n",
            "|customer_id|customer_count|\n",
            "+-----------+--------------+\n",
            "|   12640280|            63|\n",
            "|   27493011|            31|\n",
            "|   16600581|            31|\n",
            "|   43856165|            29|\n",
            "|   39789300|            26|\n",
            "|   35461976|            25|\n",
            "|   35938574|            24|\n",
            "|    5329443|            23|\n",
            "|   52228204|            23|\n",
            "|   52955780|            23|\n",
            "|   37244426|            22|\n",
            "|   49266466|            21|\n",
            "|   51712970|            19|\n",
            "|     497832|            19|\n",
            "|   47169566|            19|\n",
            "|   20844007|            19|\n",
            "|   51346302|            18|\n",
            "|   10009912|            17|\n",
            "|   14866545|            17|\n",
            "|   11422115|            17|\n",
            "+-----------+--------------+\n",
            "only showing top 20 rows\n",
            "\n"
          ]
        }
      ],
      "source": [
        "# Create the \"customers_df\" DataFrame that groups the data on the \"customer_id\" by the number of times a customer reviewed a product. \n",
        "customers_df = cleaned_df.groupby('customer_id').agg({'customer_id':\"count\"})\n",
        "customers_df = customers_df.orderBy('count(customer_id)',ascending = False)\n",
        "customers_df = customers_df.withColumnRenamed('count(customer_id)','customer_count')\n",
        "customers_df = customers_df.dropna(how='any')\n",
        "customers_df.show()"
      ]
    },
    {
      "cell_type": "markdown",
      "metadata": {
        "id": "8SbTasxbuXGK"
      },
      "source": [
        "## Create the \"vine_table\"."
      ]
    },
    {
      "cell_type": "code",
      "execution_count": 10,
      "metadata": {
        "colab": {
          "base_uri": "https://localhost:8080/"
        },
        "id": "WHQKbmCE2p3Q",
        "outputId": "75332243-0639-47f7-cd1f-661974518cb2"
      },
      "outputs": [
        {
          "output_type": "stream",
          "name": "stdout",
          "text": [
            "+--------------+-----------+-------------+-----------+----+\n",
            "|     review_id|star_rating|helpful_votes|total_votes|vine|\n",
            "+--------------+-----------+-------------+-----------+----+\n",
            "| R5MPHGZNMQRNJ|          5|            0|          0|   N|\n",
            "|R2SCIZ2KIIW7G2|          5|            0|          0|   N|\n",
            "|R2Z98HWZHMV78N|          5|            0|          0|   N|\n",
            "|R1LSO9GG4P33VV|          5|            0|          0|   N|\n",
            "| RS8HVEPCCM1V1|          4|            0|          0|   N|\n",
            "|R2CRLDSELLXESD|          1|            1|          3|   N|\n",
            "|R3ORL5J14E2IV7|          5|           27|         28|   N|\n",
            "|R2DC5GLVE7KPWC|          5|            0|          0|   N|\n",
            "|R1D7LO4KL2XYNS|          3|            1|          1|   N|\n",
            "|R3RE7EL02TIN1X|          5|            0|          0|   N|\n",
            "|R28LWDNNRDKV8E|          4|            0|          0|   N|\n",
            "|R2IX2UD0OG88GA|          5|            0|          0|   N|\n",
            "|R11910J20N35KD|          4|            2|          3|   N|\n",
            "|R35RWEOCTVPYMH|          5|            0|          0|   N|\n",
            "|R36XMQ9IS7E2PI|          2|            1|          2|   N|\n",
            "| RP3XBQDTZXFN2|          4|            0|          0|   N|\n",
            "|R2NG25XNDAXX1H|          5|            0|          0|   N|\n",
            "|R30MQF6CZPDKKH|          4|            0|          0|   N|\n",
            "| RDGTLJDO2BVHX|          5|            1|          2|   N|\n",
            "|R2DHEH4BIB2Y2V|          5|            0|          0|   N|\n",
            "+--------------+-----------+-------------+-----------+----+\n",
            "only showing top 20 rows\n",
            "\n"
          ]
        }
      ],
      "source": [
        "# Create the \"vine_df\" DataFrame that has the \"review_id\", \"star_rating\", \"helpful_votes\", \"total_votes\", and \"vine\" columns. \n",
        "vine_df = cleaned_df.select(['review_id','star_rating','helpful_votes','total_votes','vine'])\n",
        "vine_df.show()"
      ]
    },
    {
      "cell_type": "markdown",
      "metadata": {
        "id": "I8aTsEjZ2s6L"
      },
      "source": [
        "# Load"
      ]
    },
    {
      "cell_type": "code",
      "execution_count": 13,
      "metadata": {
        "id": "W4dzUKfI2vXM"
      },
      "outputs": [],
      "source": [
        "mode = \"append\"\n",
        "jdbc_url=\"jdbc:postgresql://big-data-1.clo5tanjlfil.ap-southeast-2.rds.amazonaws.com:5432/amazon_review_part1_data1\"\n",
        "config = {\"user\":\"postgres\", \"password\": \"qwertyui\", \"driver\":\"org.postgresql.Driver\"}"
      ]
    },
    {
      "cell_type": "code",
      "execution_count": 15,
      "metadata": {
        "id": "iOxKqMsD2yVs"
      },
      "outputs": [],
      "source": [
        "# Write review_id_df to table in RDS\n",
        "review_id_df.write.jdbc(url=jdbc_url, table='review_id_table', mode=mode, properties=config)"
      ]
    },
    {
      "cell_type": "code",
      "execution_count": 16,
      "metadata": {
        "id": "pPXyGVE-2yPJ"
      },
      "outputs": [],
      "source": [
        "# Write products_df to table in RDS\n",
        "products_df.write.jdbc(url=jdbc_url, table='products', mode=mode, properties=config)"
      ]
    },
    {
      "cell_type": "code",
      "execution_count": 17,
      "metadata": {
        "id": "aHbca4zN2yIa"
      },
      "outputs": [],
      "source": [
        "# Write customers_df to table in RDS\n",
        "customers_df.write.jdbc(url=jdbc_url, table='customers', mode=mode, properties=config)"
      ]
    },
    {
      "cell_type": "code",
      "execution_count": 18,
      "metadata": {
        "id": "2HfOFneW2x_F"
      },
      "outputs": [],
      "source": [
        "# Write vine_df to table in RDS\n",
        "vine_df.write.jdbc(url=jdbc_url, table='vine_table', mode=mode, properties=config)"
      ]
    }
  ],
  "metadata": {
    "colab": {
      "provenance": []
    },
    "kernelspec": {
      "display_name": "PythonData",
      "language": "python",
      "name": "python3"
    },
    "language_info": {
      "codemirror_mode": {
        "name": "ipython",
        "version": 3
      },
      "file_extension": ".py",
      "mimetype": "text/x-python",
      "name": "python",
      "nbconvert_exporter": "python",
      "pygments_lexer": "ipython3",
      "version": "3.7.13 (default, Mar 28 2022, 08:03:21) [MSC v.1916 64 bit (AMD64)]"
    },
    "vscode": {
      "interpreter": {
        "hash": "9da66beca27f19bdf81de16e0121a30aa04d4edd5eb88e9a5610932102b72b6f"
      }
    }
  },
  "nbformat": 4,
  "nbformat_minor": 0
}